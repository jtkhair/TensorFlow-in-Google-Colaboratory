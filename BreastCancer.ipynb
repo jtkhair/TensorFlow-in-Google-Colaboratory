{
  "nbformat": 4,
  "nbformat_minor": 0,
  "metadata": {
    "colab": {
      "name": "BreastCancer.ipynb",
      "provenance": [],
      "collapsed_sections": [],
      "mount_file_id": "128fXVBEaJ2ThdrsV1dDG6pxduq64BHn6",
      "authorship_tag": "ABX9TyPrAoqQg4NdQm5hN+7mQRzx",
      "include_colab_link": true
    },
    "kernelspec": {
      "name": "python3",
      "display_name": "Python 3"
    }
  },
  "cells": [
    {
      "cell_type": "markdown",
      "metadata": {
        "id": "view-in-github",
        "colab_type": "text"
      },
      "source": [
        "<a href=\"https://colab.research.google.com/github/jtkhair/TensorFlow-in-Google-Colaboratory/blob/master/BreastCancer.ipynb\" target=\"_parent\"><img src=\"https://colab.research.google.com/assets/colab-badge.svg\" alt=\"Open In Colab\"/></a>"
      ]
    },
    {
      "cell_type": "markdown",
      "metadata": {
        "id": "LY5XzcEcSQbt",
        "colab_type": "text"
      },
      "source": [
        "#Coding with TensorFlow - BreastCancer Classification\n",
        "\n",
        "Build your first Neural Network in Google Colaboratory\n",
        "\n",
        "Video resource - https://www.youtube.com/watch?v=_VTtrSDHPwU&list=PLQY2H8rRoyvyK5aEDAI3wUUqC_F0oEroL&index=3\n",
        "\n",
        "Use TensorFlow for breast cancer classification\n",
        "Data for training comes from Breast Cancer Wisconsin (Diagnostic) Data Set  → http://bit.ly/2tj4YNn\n",
        "\n",
        "Download the pre-processed data & Colab to try it yourself → http://bit.ly/2TLLoFg"
      ]
    },
    {
      "cell_type": "markdown",
      "metadata": {
        "id": "nvRKgX-kT5Os",
        "colab_type": "text"
      },
      "source": [
        "In this first cell we will upload the CSV files that contain the pre-sorted and pre-normalized data. For these I used the Wisconsin breast cancer dataset, sorted it into training and test sets with the 'input' values to the Neural Network as 'X' values, and the expected 'output' (a 0 if benign and a 1 if malignant) as the 'Y' values."
      ]
    },
    {
      "cell_type": "code",
      "metadata": {
        "id": "5EYf2Y0FT9CJ",
        "colab_type": "code",
        "colab": {
          "base_uri": "https://localhost:8080/",
          "height": 34
        },
        "outputId": "08b17bbb-bf5f-4193-f9ba-b7245f3aee0a"
      },
      "source": [
        "import pandas as pd\n",
        "\n",
        "from google.colab import drive \n",
        "drive.mount('/content/gdrive') #mount gdrive"
      ],
      "execution_count": 1,
      "outputs": [
        {
          "output_type": "stream",
          "text": [
            "Mounted at /content/gdrive\n"
          ],
          "name": "stdout"
        }
      ]
    },
    {
      "cell_type": "code",
      "metadata": {
        "id": "3J65fIJUVHO9",
        "colab_type": "code",
        "colab": {
          "base_uri": "https://localhost:8080/",
          "height": 51
        },
        "outputId": "358a2289-d654-4a24-f687-2f535585c2a7"
      },
      "source": [
        "X_test = pd.read_csv(\"/content/gdrive/My Drive/Colab/TensorFlow in Google Colaboratory/BreastCancer/breast-cancer-colab/xtest.csv\", header=None)  #read file from gdrive\n",
        "Y_test = pd.read_csv(\"/content/gdrive/My Drive/Colab/TensorFlow in Google Colaboratory/BreastCancer/breast-cancer-colab/ytest.csv\", header=None)  #read file from gdrive\n",
        "X_train = pd.read_csv(\"/content/gdrive/My Drive/Colab/TensorFlow in Google Colaboratory/BreastCancer/breast-cancer-colab/xtrain.csv\", header=None)  #read file from gdrive\n",
        "Y_train = pd.read_csv(\"/content/gdrive/My Drive/Colab/TensorFlow in Google Colaboratory/BreastCancer/breast-cancer-colab/ytrain.csv\", header=None)  #read file from gdrive\n",
        "#print(X_test.shape)\n",
        "#print(Y_test.shape)"
      ],
      "execution_count": 3,
      "outputs": [
        {
          "output_type": "stream",
          "text": [
            "(114, 30)\n",
            "(114, 1)\n"
          ],
          "name": "stdout"
        }
      ]
    },
    {
      "cell_type": "code",
      "metadata": {
        "id": "oVeq79-ZS_74",
        "colab_type": "code",
        "colab": {}
      },
      "source": [
        "from keras.models import Sequential\n",
        "from keras.layers import Dense\n",
        "\n",
        "classifier = Sequential() #Initialize ANN\n",
        "\n",
        "classifier.add(Dense(units=16, activation='relu', input_dim=30))  #config ANN\n",
        "classifier.add(Dense(units=8, activation='relu'))\n",
        "classifier.add(Dense(units=6, activation='relu'))\n",
        "classifier.add(Dense(units=1, activation='sigmoid'))"
      ],
      "execution_count": 6,
      "outputs": []
    },
    {
      "cell_type": "code",
      "metadata": {
        "id": "m4V-w2cpfYb8",
        "colab_type": "code",
        "colab": {}
      },
      "source": [
        "classifier.compile(optimizer='rmsprop', loss='binary_crossentropy') #specify optimizer & loss function"
      ],
      "execution_count": 7,
      "outputs": []
    },
    {
      "cell_type": "code",
      "metadata": {
        "id": "QV00zeNbf2Et",
        "colab_type": "code",
        "colab": {
          "base_uri": "https://localhost:8080/",
          "height": 1000
        },
        "outputId": "12066139-29ff-4afa-c3c0-ac8324dbc6a5"
      },
      "source": [
        "classifier.fit(X_train, Y_train, batch_size=1, epochs=100)  #train model"
      ],
      "execution_count": 8,
      "outputs": [
        {
          "output_type": "stream",
          "text": [
            "Epoch 1/100\n",
            "455/455 [==============================] - 0s 874us/step - loss: 0.5266\n",
            "Epoch 2/100\n",
            "455/455 [==============================] - 0s 909us/step - loss: 0.3716\n",
            "Epoch 3/100\n",
            "455/455 [==============================] - 0s 901us/step - loss: 0.2883\n",
            "Epoch 4/100\n",
            "455/455 [==============================] - 0s 870us/step - loss: 0.2294\n",
            "Epoch 5/100\n",
            "455/455 [==============================] - 0s 873us/step - loss: 0.1822\n",
            "Epoch 6/100\n",
            "455/455 [==============================] - 0s 875us/step - loss: 0.1465\n",
            "Epoch 7/100\n",
            "455/455 [==============================] - 0s 884us/step - loss: 0.1183\n",
            "Epoch 8/100\n",
            "455/455 [==============================] - 0s 858us/step - loss: 0.1020\n",
            "Epoch 9/100\n",
            "455/455 [==============================] - 0s 933us/step - loss: 0.0901\n",
            "Epoch 10/100\n",
            "455/455 [==============================] - 0s 866us/step - loss: 0.0793\n",
            "Epoch 11/100\n",
            "455/455 [==============================] - 0s 855us/step - loss: 0.0709\n",
            "Epoch 12/100\n",
            "455/455 [==============================] - 0s 913us/step - loss: 0.0655\n",
            "Epoch 13/100\n",
            "455/455 [==============================] - 0s 956us/step - loss: 0.0613\n",
            "Epoch 14/100\n",
            "455/455 [==============================] - 0s 874us/step - loss: 0.0573\n",
            "Epoch 15/100\n",
            "455/455 [==============================] - 0s 900us/step - loss: 0.0569\n",
            "Epoch 16/100\n",
            "455/455 [==============================] - 0s 877us/step - loss: 0.0555\n",
            "Epoch 17/100\n",
            "455/455 [==============================] - 0s 872us/step - loss: 0.0523\n",
            "Epoch 18/100\n",
            "455/455 [==============================] - 0s 904us/step - loss: 0.0535\n",
            "Epoch 19/100\n",
            "455/455 [==============================] - 0s 879us/step - loss: 0.0500\n",
            "Epoch 20/100\n",
            "455/455 [==============================] - 0s 876us/step - loss: 0.0555\n",
            "Epoch 21/100\n",
            "455/455 [==============================] - 0s 839us/step - loss: 0.0500\n",
            "Epoch 22/100\n",
            "455/455 [==============================] - 0s 879us/step - loss: 0.0500\n",
            "Epoch 23/100\n",
            "455/455 [==============================] - 0s 903us/step - loss: 0.0506\n",
            "Epoch 24/100\n",
            "455/455 [==============================] - 0s 888us/step - loss: 0.0509\n",
            "Epoch 25/100\n",
            "455/455 [==============================] - 0s 905us/step - loss: 0.0518\n",
            "Epoch 26/100\n",
            "455/455 [==============================] - 0s 908us/step - loss: 0.0516\n",
            "Epoch 27/100\n",
            "455/455 [==============================] - 0s 899us/step - loss: 0.0515\n",
            "Epoch 28/100\n",
            "455/455 [==============================] - 0s 859us/step - loss: 0.0540\n",
            "Epoch 29/100\n",
            "455/455 [==============================] - 0s 918us/step - loss: 0.0530\n",
            "Epoch 30/100\n",
            "455/455 [==============================] - 0s 885us/step - loss: 0.0547\n",
            "Epoch 31/100\n",
            "455/455 [==============================] - 0s 859us/step - loss: 0.0551\n",
            "Epoch 32/100\n",
            "455/455 [==============================] - 0s 960us/step - loss: 0.0553\n",
            "Epoch 33/100\n",
            "455/455 [==============================] - 0s 886us/step - loss: 0.0554\n",
            "Epoch 34/100\n",
            "455/455 [==============================] - 0s 876us/step - loss: 0.0565\n",
            "Epoch 35/100\n",
            "455/455 [==============================] - 0s 910us/step - loss: 0.0574\n",
            "Epoch 36/100\n",
            "455/455 [==============================] - 0s 871us/step - loss: 0.0581\n",
            "Epoch 37/100\n",
            "455/455 [==============================] - 0s 908us/step - loss: 0.0595\n",
            "Epoch 38/100\n",
            "455/455 [==============================] - 0s 897us/step - loss: 0.0596\n",
            "Epoch 39/100\n",
            "455/455 [==============================] - 0s 906us/step - loss: 0.0606\n",
            "Epoch 40/100\n",
            "455/455 [==============================] - 0s 877us/step - loss: 0.0616\n",
            "Epoch 41/100\n",
            "455/455 [==============================] - 0s 850us/step - loss: 0.0619\n",
            "Epoch 42/100\n",
            "455/455 [==============================] - 0s 883us/step - loss: 0.0633\n",
            "Epoch 43/100\n",
            "455/455 [==============================] - 0s 855us/step - loss: 0.0655\n",
            "Epoch 44/100\n",
            "455/455 [==============================] - 0s 905us/step - loss: 0.0650\n",
            "Epoch 45/100\n",
            "455/455 [==============================] - 0s 908us/step - loss: 0.0657\n",
            "Epoch 46/100\n",
            "455/455 [==============================] - 0s 874us/step - loss: 0.0666\n",
            "Epoch 47/100\n",
            "455/455 [==============================] - 0s 885us/step - loss: 0.0676\n",
            "Epoch 48/100\n",
            "455/455 [==============================] - 0s 868us/step - loss: 0.0684\n",
            "Epoch 49/100\n",
            "455/455 [==============================] - 0s 887us/step - loss: 0.0697\n",
            "Epoch 50/100\n",
            "455/455 [==============================] - 0s 861us/step - loss: 0.0710\n",
            "Epoch 51/100\n",
            "455/455 [==============================] - 0s 874us/step - loss: 0.0711\n",
            "Epoch 52/100\n",
            "455/455 [==============================] - 0s 918us/step - loss: 0.0717\n",
            "Epoch 53/100\n",
            "455/455 [==============================] - 0s 898us/step - loss: 0.0719\n",
            "Epoch 54/100\n",
            "455/455 [==============================] - 0s 880us/step - loss: 0.0727\n",
            "Epoch 55/100\n",
            "455/455 [==============================] - 0s 851us/step - loss: 0.0734\n",
            "Epoch 56/100\n",
            "455/455 [==============================] - 0s 860us/step - loss: 0.0733\n",
            "Epoch 57/100\n",
            "455/455 [==============================] - 0s 903us/step - loss: 0.0735\n",
            "Epoch 58/100\n",
            "455/455 [==============================] - 0s 873us/step - loss: 0.0745\n",
            "Epoch 59/100\n",
            "455/455 [==============================] - 0s 881us/step - loss: 0.0747\n",
            "Epoch 60/100\n",
            "455/455 [==============================] - 0s 901us/step - loss: 0.0765\n",
            "Epoch 61/100\n",
            "455/455 [==============================] - 0s 950us/step - loss: 0.0768\n",
            "Epoch 62/100\n",
            "455/455 [==============================] - 0s 922us/step - loss: 0.0777\n",
            "Epoch 63/100\n",
            "455/455 [==============================] - 0s 864us/step - loss: 0.0784\n",
            "Epoch 64/100\n",
            "455/455 [==============================] - 0s 963us/step - loss: 0.0786\n",
            "Epoch 65/100\n",
            "455/455 [==============================] - 0s 906us/step - loss: 0.0798\n",
            "Epoch 66/100\n",
            "455/455 [==============================] - 0s 926us/step - loss: 0.0801\n",
            "Epoch 67/100\n",
            "455/455 [==============================] - 0s 860us/step - loss: 0.0806\n",
            "Epoch 68/100\n",
            "455/455 [==============================] - 0s 881us/step - loss: 0.0812\n",
            "Epoch 69/100\n",
            "455/455 [==============================] - 0s 935us/step - loss: 0.0813\n",
            "Epoch 70/100\n",
            "455/455 [==============================] - 0s 912us/step - loss: 0.0823\n",
            "Epoch 71/100\n",
            "455/455 [==============================] - 0s 887us/step - loss: 0.0836\n",
            "Epoch 72/100\n",
            "455/455 [==============================] - 0s 862us/step - loss: 0.0839\n",
            "Epoch 73/100\n",
            "455/455 [==============================] - 0s 870us/step - loss: 0.0844\n",
            "Epoch 74/100\n",
            "455/455 [==============================] - 0s 866us/step - loss: 0.0848\n",
            "Epoch 75/100\n",
            "455/455 [==============================] - 0s 847us/step - loss: 0.0865\n",
            "Epoch 76/100\n",
            "455/455 [==============================] - 0s 870us/step - loss: 0.0866\n",
            "Epoch 77/100\n",
            "455/455 [==============================] - 0s 946us/step - loss: 0.0868\n",
            "Epoch 78/100\n",
            "455/455 [==============================] - 0s 888us/step - loss: 0.0868\n",
            "Epoch 79/100\n",
            "455/455 [==============================] - 0s 910us/step - loss: 0.0869\n",
            "Epoch 80/100\n",
            "455/455 [==============================] - 0s 857us/step - loss: 0.0881\n",
            "Epoch 81/100\n",
            "455/455 [==============================] - 0s 859us/step - loss: 0.0882\n",
            "Epoch 82/100\n",
            "455/455 [==============================] - 0s 862us/step - loss: 0.0882\n",
            "Epoch 83/100\n",
            "455/455 [==============================] - 0s 862us/step - loss: 0.0896\n",
            "Epoch 84/100\n",
            "455/455 [==============================] - 0s 876us/step - loss: 0.0897\n",
            "Epoch 85/100\n",
            "455/455 [==============================] - 0s 869us/step - loss: 0.0898\n",
            "Epoch 86/100\n",
            "455/455 [==============================] - 0s 836us/step - loss: 0.0898\n",
            "Epoch 87/100\n",
            "455/455 [==============================] - 0s 867us/step - loss: 0.0899\n",
            "Epoch 88/100\n",
            "455/455 [==============================] - 0s 867us/step - loss: 0.0914\n",
            "Epoch 89/100\n",
            "455/455 [==============================] - 0s 864us/step - loss: 0.0920\n",
            "Epoch 90/100\n",
            "455/455 [==============================] - 0s 906us/step - loss: 0.0925\n",
            "Epoch 91/100\n",
            "455/455 [==============================] - 0s 865us/step - loss: 0.0929\n",
            "Epoch 92/100\n",
            "455/455 [==============================] - 0s 877us/step - loss: 0.0934\n",
            "Epoch 93/100\n",
            "455/455 [==============================] - 0s 852us/step - loss: 0.0936\n",
            "Epoch 94/100\n",
            "455/455 [==============================] - 0s 936us/step - loss: 0.0950\n",
            "Epoch 95/100\n",
            "455/455 [==============================] - 0s 876us/step - loss: 0.0956\n",
            "Epoch 96/100\n",
            "455/455 [==============================] - 0s 864us/step - loss: 0.0961\n",
            "Epoch 97/100\n",
            "455/455 [==============================] - 0s 873us/step - loss: 0.0960\n",
            "Epoch 98/100\n",
            "455/455 [==============================] - 0s 902us/step - loss: 0.0968\n",
            "Epoch 99/100\n",
            "455/455 [==============================] - 0s 861us/step - loss: 0.0971\n",
            "Epoch 100/100\n",
            "455/455 [==============================] - 0s 874us/step - loss: 0.0979\n"
          ],
          "name": "stdout"
        },
        {
          "output_type": "execute_result",
          "data": {
            "text/plain": [
              "<tensorflow.python.keras.callbacks.History at 0x7f9b2bceee10>"
            ]
          },
          "metadata": {
            "tags": []
          },
          "execution_count": 8
        }
      ]
    },
    {
      "cell_type": "code",
      "metadata": {
        "id": "sfArNBHigy-G",
        "colab_type": "code",
        "colab": {}
      },
      "source": [
        "Y_pred = classifier.predict(X_test)   #define condition for prediction\n",
        "Y_pred = [1 if y>=0.5 else 0 for y in Y_pred]"
      ],
      "execution_count": 9,
      "outputs": []
    },
    {
      "cell_type": "code",
      "metadata": {
        "id": "f2vhp7UOhsQm",
        "colab_type": "code",
        "colab": {
          "base_uri": "https://localhost:8080/",
          "height": 68
        },
        "outputId": "ed52b6e5-9a8e-4704-8d9a-69f6f43bdd13"
      },
      "source": [
        "total=0  #Do for all X_test data\n",
        "correct=0\n",
        "wrong=0\n",
        "for i in range(len(Y_pred)):\n",
        "  total=total+1\n",
        "  if(Y_test.at[i,0]==Y_pred[i]):\n",
        "    correct=correct+1\n",
        "  else:\n",
        "    wrong=wrong+1\n",
        "\n",
        "print((\"Total \" + str(total)))\n",
        "print((\"Correct \" + str(correct)))\n",
        "print((\"Wrong \" + str(wrong)))\n"
      ],
      "execution_count": 12,
      "outputs": [
        {
          "output_type": "stream",
          "text": [
            "Total 114\n",
            "Correct 109\n",
            "Wrong 5\n"
          ],
          "name": "stdout"
        }
      ]
    },
    {
      "cell_type": "code",
      "metadata": {
        "id": "mmO3TX3Bp-mx",
        "colab_type": "code",
        "colab": {}
      },
      "source": [
        ""
      ],
      "execution_count": null,
      "outputs": []
    }
  ]
}