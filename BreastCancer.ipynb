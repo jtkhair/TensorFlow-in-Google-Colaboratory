{
  "nbformat": 4,
  "nbformat_minor": 0,
  "metadata": {
    "colab": {
      "name": "BreastCancer.ipynb",
      "provenance": [],
      "authorship_tag": "ABX9TyNsu7uciHUq5UTnp7joiR5A",
      "include_colab_link": true
    },
    "kernelspec": {
      "name": "python3",
      "display_name": "Python 3"
    }
  },
  "cells": [
    {
      "cell_type": "markdown",
      "metadata": {
        "id": "view-in-github",
        "colab_type": "text"
      },
      "source": [
        "<a href=\"https://colab.research.google.com/github/jtkhair/TensorFlow-in-Google-Colaboratory/blob/master/BreastCancer.ipynb\" target=\"_parent\"><img src=\"https://colab.research.google.com/assets/colab-badge.svg\" alt=\"Open In Colab\"/></a>"
      ]
    },
    {
      "cell_type": "markdown",
      "metadata": {
        "id": "LY5XzcEcSQbt",
        "colab_type": "text"
      },
      "source": [
        "#Coding with TensorFlow\n",
        "\n",
        "Build your first Neural Network in Google Colaboratory\n",
        "\n",
        "Video resource - https://www.youtube.com/watch?v=_VTtrSDHPwU&list=PLQY2H8rRoyvyK5aEDAI3wUUqC_F0oEroL&index=3\n",
        "\n",
        "Use TensorFlow for breast cancer classification\n",
        "Data for training comes from Breast Cancer Wisconsin (Diagnostic) Data Set  → http://bit.ly/2tj4YNn\n",
        "\n",
        "Download the pre-processed data & Colab to try it yourself → http://bit.ly/2TLLoFg"
      ]
    },
    {
      "cell_type": "markdown",
      "metadata": {
        "id": "nvRKgX-kT5Os",
        "colab_type": "text"
      },
      "source": [
        "In this first cell we will upload the CSV files that contain the pre-sorted and pre-normalized data. For these I used the Wisconsin breast cancer dataset, sorted it into training and test sets with the 'input' values to the Neural Network as 'X' values, and the expected 'output' (a 0 if benign and a 1 if malignant) as the 'Y' values."
      ]
    },
    {
      "cell_type": "code",
      "metadata": {
        "id": "5EYf2Y0FT9CJ",
        "colab_type": "code",
        "colab": {}
      },
      "source": [
        "import"
      ],
      "execution_count": null,
      "outputs": []
    }
  ]
}