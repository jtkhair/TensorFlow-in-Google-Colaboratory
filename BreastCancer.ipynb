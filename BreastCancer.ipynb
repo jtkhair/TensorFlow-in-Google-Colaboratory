{
  "nbformat": 4,
  "nbformat_minor": 0,
  "metadata": {
    "colab": {
      "name": "BreastCancer.ipynb",
      "provenance": [],
      "collapsed_sections": [],
      "mount_file_id": "128fXVBEaJ2ThdrsV1dDG6pxduq64BHn6",
      "authorship_tag": "ABX9TyOfmEryzx90iKXbm0FYEBlP",
      "include_colab_link": true
    },
    "kernelspec": {
      "name": "python3",
      "display_name": "Python 3"
    }
  },
  "cells": [
    {
      "cell_type": "markdown",
      "metadata": {
        "id": "view-in-github",
        "colab_type": "text"
      },
      "source": [
        "<a href=\"https://colab.research.google.com/github/jtkhair/TensorFlow-in-Google-Colaboratory/blob/master/BreastCancer.ipynb\" target=\"_parent\"><img src=\"https://colab.research.google.com/assets/colab-badge.svg\" alt=\"Open In Colab\"/></a>"
      ]
    },
    {
      "cell_type": "markdown",
      "metadata": {
        "id": "LY5XzcEcSQbt",
        "colab_type": "text"
      },
      "source": [
        "#Coding with TensorFlow - BreastCancer Classification\n",
        "\n",
        "Build your first Neural Network in Google Colaboratory\n",
        "\n",
        "Video resource - https://www.youtube.com/watch?v=_VTtrSDHPwU&list=PLQY2H8rRoyvyK5aEDAI3wUUqC_F0oEroL&index=3\n",
        "\n",
        "Use TensorFlow for breast cancer classification\n",
        "Data for training comes from Breast Cancer Wisconsin (Diagnostic) Data Set  → http://bit.ly/2tj4YNn\n",
        "\n",
        "Download the pre-processed data & Colab to try it yourself → http://bit.ly/2TLLoFg"
      ]
    },
    {
      "cell_type": "markdown",
      "metadata": {
        "id": "nvRKgX-kT5Os",
        "colab_type": "text"
      },
      "source": [
        "In this first cell we will upload the CSV files that contain the pre-sorted and pre-normalized data. For these I used the Wisconsin breast cancer dataset, sorted it into training and test sets with the 'input' values to the Neural Network as 'X' values, and the expected 'output' (a 0 if benign and a 1 if malignant) as the 'Y' values."
      ]
    },
    {
      "cell_type": "code",
      "metadata": {
        "id": "5EYf2Y0FT9CJ",
        "colab_type": "code",
        "colab": {
          "base_uri": "https://localhost:8080/",
          "height": 34
        },
        "outputId": "7de75539-a5ac-45ab-fa06-bc2f0365b81a"
      },
      "source": [
        "import pandas as pd\n",
        "\n",
        "from google.colab import drive \n",
        "drive.mount('/content/gdrive') #mount gdrive"
      ],
      "execution_count": 1,
      "outputs": [
        {
          "output_type": "stream",
          "text": [
            "Mounted at /content/gdrive\n"
          ],
          "name": "stdout"
        }
      ]
    },
    {
      "cell_type": "code",
      "metadata": {
        "id": "3J65fIJUVHO9",
        "colab_type": "code",
        "colab": {}
      },
      "source": [
        "X_test = pd.read_csv(\"/content/gdrive/My Drive/Colab/TensorFlow in Google Colaboratory/BreastCancer/breast-cancer-colab/xtest.csv\", header=None)  #read file from gdrive\n",
        "Y_test = pd.read_csv(\"/content/gdrive/My Drive/Colab/TensorFlow in Google Colaboratory/BreastCancer/breast-cancer-colab/ytest.csv\", header=None)  #read file from gdrive\n",
        "X_train = pd.read_csv(\"/content/gdrive/My Drive/Colab/TensorFlow in Google Colaboratory/BreastCancer/breast-cancer-colab/xtrain.csv\", header=None)  #read file from gdrive\n",
        "Y_train = pd.read_csv(\"/content/gdrive/My Drive/Colab/TensorFlow in Google Colaboratory/BreastCancer/breast-cancer-colab/ytrain.csv\", header=None)  #read file from gdrive\n",
        "#print(X_test.shape)\n",
        "#print(Y_test.shape)"
      ],
      "execution_count": 2,
      "outputs": []
    },
    {
      "cell_type": "code",
      "metadata": {
        "id": "oVeq79-ZS_74",
        "colab_type": "code",
        "colab": {}
      },
      "source": [
        "from keras.models import Sequential\n",
        "from keras.layers import Dense\n",
        "\n",
        "classifier = Sequential() #Initialize ANN\n",
        "\n",
        "classifier.add(Dense(units=16, activation='relu', input_dim=30))  #config ANN\n",
        "classifier.add(Dense(units=8, activation='relu'))\n",
        "classifier.add(Dense(units=6, activation='relu'))\n",
        "classifier.add(Dense(units=1, activation='sigmoid'))"
      ],
      "execution_count": 3,
      "outputs": []
    },
    {
      "cell_type": "code",
      "metadata": {
        "id": "m4V-w2cpfYb8",
        "colab_type": "code",
        "colab": {}
      },
      "source": [
        "classifier.compile(optimizer='rmsprop', loss='binary_crossentropy') #specify optimizer & loss function"
      ],
      "execution_count": 4,
      "outputs": []
    },
    {
      "cell_type": "code",
      "metadata": {
        "id": "QV00zeNbf2Et",
        "colab_type": "code",
        "colab": {
          "base_uri": "https://localhost:8080/",
          "height": 1000
        },
        "outputId": "53d3d8ce-fe09-4526-eafe-8d9b9ed1209f"
      },
      "source": [
        "classifier.fit(X_train, Y_train, batch_size=1, epochs=100)  #set hyperparameters & train model "
      ],
      "execution_count": 5,
      "outputs": [
        {
          "output_type": "stream",
          "text": [
            "Epoch 1/100\n",
            "455/455 [==============================] - 0s 867us/step - loss: 0.4267\n",
            "Epoch 2/100\n",
            "455/455 [==============================] - 0s 932us/step - loss: 0.1205\n",
            "Epoch 3/100\n",
            "455/455 [==============================] - 0s 872us/step - loss: 0.0918\n",
            "Epoch 4/100\n",
            "455/455 [==============================] - 0s 840us/step - loss: 0.0962\n",
            "Epoch 5/100\n",
            "455/455 [==============================] - 0s 915us/step - loss: 0.0846\n",
            "Epoch 6/100\n",
            "455/455 [==============================] - 0s 884us/step - loss: 0.0803\n",
            "Epoch 7/100\n",
            "455/455 [==============================] - 0s 853us/step - loss: 0.0852\n",
            "Epoch 8/100\n",
            "455/455 [==============================] - 0s 946us/step - loss: 0.0748\n",
            "Epoch 9/100\n",
            "455/455 [==============================] - 0s 936us/step - loss: 0.0807\n",
            "Epoch 10/100\n",
            "455/455 [==============================] - 0s 865us/step - loss: 0.0711\n",
            "Epoch 11/100\n",
            "455/455 [==============================] - 0s 882us/step - loss: 0.0795\n",
            "Epoch 12/100\n",
            "455/455 [==============================] - 0s 884us/step - loss: 0.0749\n",
            "Epoch 13/100\n",
            "455/455 [==============================] - 0s 1ms/step - loss: 0.0769\n",
            "Epoch 14/100\n",
            "455/455 [==============================] - 0s 965us/step - loss: 0.0678\n",
            "Epoch 15/100\n",
            "455/455 [==============================] - 0s 1ms/step - loss: 0.0698\n",
            "Epoch 16/100\n",
            "455/455 [==============================] - 0s 1ms/step - loss: 0.0664\n",
            "Epoch 17/100\n",
            "455/455 [==============================] - 0s 1ms/step - loss: 0.0690\n",
            "Epoch 18/100\n",
            "455/455 [==============================] - 0s 1ms/step - loss: 0.0696\n",
            "Epoch 19/100\n",
            "455/455 [==============================] - 0s 1ms/step - loss: 0.0643\n",
            "Epoch 20/100\n",
            "455/455 [==============================] - 0s 925us/step - loss: 0.0690\n",
            "Epoch 21/100\n",
            "455/455 [==============================] - 0s 865us/step - loss: 0.0642\n",
            "Epoch 22/100\n",
            "455/455 [==============================] - 0s 849us/step - loss: 0.0688\n",
            "Epoch 23/100\n",
            "455/455 [==============================] - 0s 856us/step - loss: 0.0721\n",
            "Epoch 24/100\n",
            "455/455 [==============================] - 0s 879us/step - loss: 0.0704\n",
            "Epoch 25/100\n",
            "455/455 [==============================] - 0s 921us/step - loss: 0.0705\n",
            "Epoch 26/100\n",
            "455/455 [==============================] - 0s 848us/step - loss: 0.0720\n",
            "Epoch 27/100\n",
            "455/455 [==============================] - 0s 861us/step - loss: 0.0617\n",
            "Epoch 28/100\n",
            "455/455 [==============================] - 0s 854us/step - loss: 0.0637\n",
            "Epoch 29/100\n",
            "455/455 [==============================] - 0s 868us/step - loss: 0.0751\n",
            "Epoch 30/100\n",
            "455/455 [==============================] - 0s 879us/step - loss: 0.0586\n",
            "Epoch 31/100\n",
            "455/455 [==============================] - 0s 857us/step - loss: 0.0631\n",
            "Epoch 32/100\n",
            "455/455 [==============================] - 0s 878us/step - loss: 0.0672\n",
            "Epoch 33/100\n",
            "455/455 [==============================] - 0s 855us/step - loss: 0.0610\n",
            "Epoch 34/100\n",
            "455/455 [==============================] - 0s 910us/step - loss: 0.0657\n",
            "Epoch 35/100\n",
            "455/455 [==============================] - 0s 839us/step - loss: 0.0659\n",
            "Epoch 36/100\n",
            "455/455 [==============================] - 0s 858us/step - loss: 0.0601\n",
            "Epoch 37/100\n",
            "455/455 [==============================] - 0s 889us/step - loss: 0.0750\n",
            "Epoch 38/100\n",
            "455/455 [==============================] - 0s 845us/step - loss: 0.0710\n",
            "Epoch 39/100\n",
            "455/455 [==============================] - 0s 841us/step - loss: 0.0511\n",
            "Epoch 40/100\n",
            "455/455 [==============================] - 0s 862us/step - loss: 0.0648\n",
            "Epoch 41/100\n",
            "455/455 [==============================] - 0s 847us/step - loss: 0.0705\n",
            "Epoch 42/100\n",
            "455/455 [==============================] - 0s 880us/step - loss: 0.0615\n",
            "Epoch 43/100\n",
            "455/455 [==============================] - 0s 871us/step - loss: 0.0670\n",
            "Epoch 44/100\n",
            "455/455 [==============================] - 0s 843us/step - loss: 0.0651\n",
            "Epoch 45/100\n",
            "455/455 [==============================] - 0s 884us/step - loss: 0.0706\n",
            "Epoch 46/100\n",
            "455/455 [==============================] - 0s 886us/step - loss: 0.0739\n",
            "Epoch 47/100\n",
            "455/455 [==============================] - 0s 863us/step - loss: 0.0762\n",
            "Epoch 48/100\n",
            "455/455 [==============================] - 0s 851us/step - loss: 0.0760\n",
            "Epoch 49/100\n",
            "455/455 [==============================] - 0s 921us/step - loss: 0.0713\n",
            "Epoch 50/100\n",
            "455/455 [==============================] - 0s 854us/step - loss: 0.0663\n",
            "Epoch 51/100\n",
            "455/455 [==============================] - 0s 841us/step - loss: 0.0631\n",
            "Epoch 52/100\n",
            "455/455 [==============================] - 0s 858us/step - loss: 0.0595\n",
            "Epoch 53/100\n",
            "455/455 [==============================] - 0s 845us/step - loss: 0.0605\n",
            "Epoch 54/100\n",
            "455/455 [==============================] - 0s 845us/step - loss: 0.0679\n",
            "Epoch 55/100\n",
            "455/455 [==============================] - 0s 873us/step - loss: 0.0533\n",
            "Epoch 56/100\n",
            "455/455 [==============================] - 0s 920us/step - loss: 0.0603\n",
            "Epoch 57/100\n",
            "455/455 [==============================] - 0s 877us/step - loss: 0.0566\n",
            "Epoch 58/100\n",
            "455/455 [==============================] - 0s 847us/step - loss: 0.0483\n",
            "Epoch 59/100\n",
            "455/455 [==============================] - 0s 913us/step - loss: 0.0666\n",
            "Epoch 60/100\n",
            "455/455 [==============================] - 0s 863us/step - loss: 0.0763\n",
            "Epoch 61/100\n",
            "455/455 [==============================] - 0s 843us/step - loss: 0.0556\n",
            "Epoch 62/100\n",
            "455/455 [==============================] - 0s 828us/step - loss: 0.0737\n",
            "Epoch 63/100\n",
            "455/455 [==============================] - 0s 912us/step - loss: 0.0509\n",
            "Epoch 64/100\n",
            "455/455 [==============================] - 0s 917us/step - loss: 0.0737\n",
            "Epoch 65/100\n",
            "455/455 [==============================] - 0s 885us/step - loss: 0.0406\n",
            "Epoch 66/100\n",
            "455/455 [==============================] - 0s 869us/step - loss: 0.0506\n",
            "Epoch 67/100\n",
            "455/455 [==============================] - 0s 838us/step - loss: 0.0509\n",
            "Epoch 68/100\n",
            "455/455 [==============================] - 0s 848us/step - loss: 0.0492\n",
            "Epoch 69/100\n",
            "455/455 [==============================] - 0s 866us/step - loss: 0.0455\n",
            "Epoch 70/100\n",
            "455/455 [==============================] - 0s 859us/step - loss: 0.0567\n",
            "Epoch 71/100\n",
            "455/455 [==============================] - 0s 842us/step - loss: 0.0494\n",
            "Epoch 72/100\n",
            "455/455 [==============================] - 0s 847us/step - loss: 0.0452\n",
            "Epoch 73/100\n",
            "455/455 [==============================] - 0s 918us/step - loss: 0.0658\n",
            "Epoch 74/100\n",
            "455/455 [==============================] - 0s 846us/step - loss: 0.0406\n",
            "Epoch 75/100\n",
            "455/455 [==============================] - 0s 847us/step - loss: 0.0307\n",
            "Epoch 76/100\n",
            "455/455 [==============================] - 0s 866us/step - loss: 0.0483\n",
            "Epoch 77/100\n",
            "455/455 [==============================] - 0s 834us/step - loss: 0.0310\n",
            "Epoch 78/100\n",
            "455/455 [==============================] - 0s 868us/step - loss: 0.0507\n",
            "Epoch 79/100\n",
            "455/455 [==============================] - 0s 852us/step - loss: 0.0344\n",
            "Epoch 80/100\n",
            "455/455 [==============================] - 0s 848us/step - loss: 0.0323\n",
            "Epoch 81/100\n",
            "455/455 [==============================] - 0s 865us/step - loss: 0.0286\n",
            "Epoch 82/100\n",
            "455/455 [==============================] - 0s 865us/step - loss: 0.0307\n",
            "Epoch 83/100\n",
            "455/455 [==============================] - 0s 861us/step - loss: 0.0222\n",
            "Epoch 84/100\n",
            "455/455 [==============================] - 0s 927us/step - loss: 0.0415\n",
            "Epoch 85/100\n",
            "455/455 [==============================] - 0s 828us/step - loss: 0.0363\n",
            "Epoch 86/100\n",
            "455/455 [==============================] - 0s 850us/step - loss: 0.0393\n",
            "Epoch 87/100\n",
            "455/455 [==============================] - 0s 840us/step - loss: 0.0229\n",
            "Epoch 88/100\n",
            "455/455 [==============================] - 0s 854us/step - loss: 0.0244\n",
            "Epoch 89/100\n",
            "455/455 [==============================] - 0s 859us/step - loss: 0.0150\n",
            "Epoch 90/100\n",
            "455/455 [==============================] - 0s 836us/step - loss: 0.0364\n",
            "Epoch 91/100\n",
            "455/455 [==============================] - 0s 861us/step - loss: 0.0275\n",
            "Epoch 92/100\n",
            "455/455 [==============================] - 0s 824us/step - loss: 0.0312\n",
            "Epoch 93/100\n",
            "455/455 [==============================] - 0s 904us/step - loss: 0.0229\n",
            "Epoch 94/100\n",
            "455/455 [==============================] - 0s 836us/step - loss: 0.0157\n",
            "Epoch 95/100\n",
            "455/455 [==============================] - 0s 824us/step - loss: 0.0291\n",
            "Epoch 96/100\n",
            "455/455 [==============================] - 0s 872us/step - loss: 0.0184\n",
            "Epoch 97/100\n",
            "455/455 [==============================] - 0s 828us/step - loss: 0.0345\n",
            "Epoch 98/100\n",
            "455/455 [==============================] - 0s 856us/step - loss: 0.0145\n",
            "Epoch 99/100\n",
            "455/455 [==============================] - 0s 847us/step - loss: 0.0156\n",
            "Epoch 100/100\n",
            "455/455 [==============================] - 0s 872us/step - loss: 0.0213\n"
          ],
          "name": "stdout"
        },
        {
          "output_type": "execute_result",
          "data": {
            "text/plain": [
              "<tensorflow.python.keras.callbacks.History at 0x7f0de84ca780>"
            ]
          },
          "metadata": {
            "tags": []
          },
          "execution_count": 5
        }
      ]
    },
    {
      "cell_type": "code",
      "metadata": {
        "id": "sfArNBHigy-G",
        "colab_type": "code",
        "colab": {}
      },
      "source": [
        "Y_pred = classifier.predict(X_test)   #define condition for prediction\n",
        "Y_pred = [1 if y>=0.5 else 0 for y in Y_pred]"
      ],
      "execution_count": 6,
      "outputs": []
    },
    {
      "cell_type": "code",
      "metadata": {
        "id": "f2vhp7UOhsQm",
        "colab_type": "code",
        "colab": {
          "base_uri": "https://localhost:8080/",
          "height": 68
        },
        "outputId": "e6e91d07-dc08-4a58-d7b4-006af7b463c1"
      },
      "source": [
        "total=0  #initialize variables to zero\n",
        "correct=0\n",
        "wrong=0\n",
        "for i in range(len(Y_pred)):  #Do for all X_test data\n",
        "  total=total+1\n",
        "  if(Y_test.at[i,0]==Y_pred[i]):\n",
        "    correct=correct+1\n",
        "  else:\n",
        "    wrong=wrong+1\n",
        "\n",
        "print((\"Total = \" + str(total)))  #print output\n",
        "print((\"Correct = \" + str(correct)))\n",
        "print((\"Wrong = \" + str(wrong)))\n"
      ],
      "execution_count": 7,
      "outputs": [
        {
          "output_type": "stream",
          "text": [
            "Total = 114\n",
            "Correct = 114\n",
            "Wrong = 0\n"
          ],
          "name": "stdout"
        }
      ]
    },
    {
      "cell_type": "code",
      "metadata": {
        "id": "mmO3TX3Bp-mx",
        "colab_type": "code",
        "colab": {}
      },
      "source": [
        ""
      ],
      "execution_count": 7,
      "outputs": []
    }
  ]
}