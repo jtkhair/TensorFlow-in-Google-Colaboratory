{
  "nbformat": 4,
  "nbformat_minor": 0,
  "metadata": {
    "colab": {
      "name": "BreastCancer.ipynb",
      "provenance": [],
      "mount_file_id": "128fXVBEaJ2ThdrsV1dDG6pxduq64BHn6",
      "authorship_tag": "ABX9TyN4H042nSP1qEXQVIActiJX",
      "include_colab_link": true
    },
    "kernelspec": {
      "name": "python3",
      "display_name": "Python 3"
    }
  },
  "cells": [
    {
      "cell_type": "markdown",
      "metadata": {
        "id": "view-in-github",
        "colab_type": "text"
      },
      "source": [
        "<a href=\"https://colab.research.google.com/github/jtkhair/TensorFlow-in-Google-Colaboratory/blob/master/BreastCancer.ipynb\" target=\"_parent\"><img src=\"https://colab.research.google.com/assets/colab-badge.svg\" alt=\"Open In Colab\"/></a>"
      ]
    },
    {
      "cell_type": "markdown",
      "metadata": {
        "id": "LY5XzcEcSQbt",
        "colab_type": "text"
      },
      "source": [
        "#Coding with TensorFlow\n",
        "\n",
        "Build your first Neural Network in Google Colaboratory\n",
        "\n",
        "Video resource - https://www.youtube.com/watch?v=_VTtrSDHPwU&list=PLQY2H8rRoyvyK5aEDAI3wUUqC_F0oEroL&index=3\n",
        "\n",
        "Use TensorFlow for breast cancer classification\n",
        "Data for training comes from Breast Cancer Wisconsin (Diagnostic) Data Set  → http://bit.ly/2tj4YNn\n",
        "\n",
        "Download the pre-processed data & Colab to try it yourself → http://bit.ly/2TLLoFg"
      ]
    },
    {
      "cell_type": "markdown",
      "metadata": {
        "id": "nvRKgX-kT5Os",
        "colab_type": "text"
      },
      "source": [
        "In this first cell we will upload the CSV files that contain the pre-sorted and pre-normalized data. For these I used the Wisconsin breast cancer dataset, sorted it into training and test sets with the 'input' values to the Neural Network as 'X' values, and the expected 'output' (a 0 if benign and a 1 if malignant) as the 'Y' values."
      ]
    },
    {
      "cell_type": "code",
      "metadata": {
        "id": "5EYf2Y0FT9CJ",
        "colab_type": "code",
        "colab": {
          "base_uri": "https://localhost:8080/",
          "height": 34
        },
        "outputId": "ed1b2476-76f0-49b9-d2f6-fa6c888c065a"
      },
      "source": [
        "import pandas as pd\n",
        "\n",
        "#from google.colab import files\n",
        "from google.colab import drive\n",
        "drive.mount('/content/gdrive')"
      ],
      "execution_count": 1,
      "outputs": [
        {
          "output_type": "stream",
          "text": [
            "Mounted at /content/gdrive\n"
          ],
          "name": "stdout"
        }
      ]
    },
    {
      "cell_type": "code",
      "metadata": {
        "id": "3J65fIJUVHO9",
        "colab_type": "code",
        "colab": {}
      },
      "source": [
        "X_test = pd.read_csv(\"/content/gdrive/My Drive/Colab/TensorFlow in Google Colaboratory/BreastCancer/breast-cancer-colab/xtest.csv\", header=None)\n",
        "Y_test = pd.read_csv(\"/content/gdrive/My Drive/Colab/TensorFlow in Google Colaboratory/BreastCancer/breast-cancer-colab/ytest.csv\", header=None)\n",
        "X_train = pd.read_csv(\"/content/gdrive/My Drive/Colab/TensorFlow in Google Colaboratory/BreastCancer/breast-cancer-colab/xtrain.csv\", header=None)\n",
        "Y_train = pd.read_csv(\"/content/gdrive/My Drive/Colab/TensorFlow in Google Colaboratory/BreastCancer/breast-cancer-colab/ytrain.csv\", header=None)"
      ],
      "execution_count": 2,
      "outputs": []
    }
  ]
}